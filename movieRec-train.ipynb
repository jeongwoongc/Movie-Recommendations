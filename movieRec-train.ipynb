{
 "cells": [
  {
   "cell_type": "code",
   "execution_count": 2,
   "metadata": {},
   "outputs": [],
   "source": [
    "import numpy as np\n",
    "import numpy.ma as ma\n",
    "import matplotlib.pyplot as plt\n",
    "import pandas as pd\n",
    "import tensorflow as tf\n",
    "import csv\n",
    "\n",
    "from numpy import genfromtxt\n",
    "from collections import defaultdict\n",
    "from tensorflow import keras\n",
    "from sklearn.preprocessing import StandardScaler, MinMaxScaler\n",
    "from sklearn.model_selection import train_test_split\n",
    "import tabulate\n",
    "\n",
    "SHUFFLE_BUFFER = 500\n",
    "BATCH_SIZE = 256"
   ]
  },
  {
   "cell_type": "code",
   "execution_count": 3,
   "metadata": {},
   "outputs": [],
   "source": [
    "# get datasets\n",
    "mv_train = pd.read_csv('data/final_movies.csv', nrows=600000).fillna(0)\n",
    "us_train = pd.read_csv('data/final_users.csv', nrows=600000).fillna(0)\n",
    "y_train = pd.read_csv('data/y_train.csv', nrows=600000).fillna(0)"
   ]
  },
  {
   "cell_type": "code",
   "execution_count": 4,
   "metadata": {},
   "outputs": [],
   "source": [
    "num_user_features = us_train.shape[1] - 2  # remove userid, rating count and ave rating during training\n",
    "num_item_features = mv_train.shape[1] - 2  # remove movie id and release year at train time"
   ]
  },
  {
   "cell_type": "code",
   "execution_count": 5,
   "metadata": {},
   "outputs": [
    {
     "name": "stdout",
     "output_type": "stream",
     "text": [
      "shape of dataset: (600000, 21)\n"
     ]
    },
    {
     "data": {
      "text/html": [
       "<div>\n",
       "<style scoped>\n",
       "    .dataframe tbody tr th:only-of-type {\n",
       "        vertical-align: middle;\n",
       "    }\n",
       "\n",
       "    .dataframe tbody tr th {\n",
       "        vertical-align: top;\n",
       "    }\n",
       "\n",
       "    .dataframe thead th {\n",
       "        text-align: right;\n",
       "    }\n",
       "</style>\n",
       "<table border=\"1\" class=\"dataframe\">\n",
       "  <thead>\n",
       "    <tr style=\"text-align: right;\">\n",
       "      <th></th>\n",
       "      <th>movieId</th>\n",
       "      <th>Release Year</th>\n",
       "      <th>Action</th>\n",
       "      <th>Adventure</th>\n",
       "      <th>Animation</th>\n",
       "      <th>Children</th>\n",
       "      <th>Comedy</th>\n",
       "      <th>Crime</th>\n",
       "      <th>Documentary</th>\n",
       "      <th>Drama</th>\n",
       "      <th>...</th>\n",
       "      <th>Film-Noir</th>\n",
       "      <th>Horror</th>\n",
       "      <th>IMAX</th>\n",
       "      <th>Musical</th>\n",
       "      <th>Mystery</th>\n",
       "      <th>Romance</th>\n",
       "      <th>Sci-Fi</th>\n",
       "      <th>Thriller</th>\n",
       "      <th>War</th>\n",
       "      <th>Western</th>\n",
       "    </tr>\n",
       "  </thead>\n",
       "  <tbody>\n",
       "    <tr>\n",
       "      <th>0</th>\n",
       "      <td>2840</td>\n",
       "      <td>1999</td>\n",
       "      <td>0.0</td>\n",
       "      <td>0.0</td>\n",
       "      <td>0.0</td>\n",
       "      <td>0.0</td>\n",
       "      <td>0.0</td>\n",
       "      <td>0.0</td>\n",
       "      <td>0.0</td>\n",
       "      <td>1.0</td>\n",
       "      <td>...</td>\n",
       "      <td>0.0</td>\n",
       "      <td>0.0</td>\n",
       "      <td>0.0</td>\n",
       "      <td>0.0</td>\n",
       "      <td>0.0</td>\n",
       "      <td>0.0</td>\n",
       "      <td>0.0</td>\n",
       "      <td>1.0</td>\n",
       "      <td>0.0</td>\n",
       "      <td>0.0</td>\n",
       "    </tr>\n",
       "    <tr>\n",
       "      <th>1</th>\n",
       "      <td>481</td>\n",
       "      <td>1993</td>\n",
       "      <td>0.0</td>\n",
       "      <td>0.0</td>\n",
       "      <td>0.0</td>\n",
       "      <td>0.0</td>\n",
       "      <td>0.0</td>\n",
       "      <td>0.0</td>\n",
       "      <td>0.0</td>\n",
       "      <td>1.0</td>\n",
       "      <td>...</td>\n",
       "      <td>0.0</td>\n",
       "      <td>0.0</td>\n",
       "      <td>0.0</td>\n",
       "      <td>0.0</td>\n",
       "      <td>0.0</td>\n",
       "      <td>0.0</td>\n",
       "      <td>0.0</td>\n",
       "      <td>1.0</td>\n",
       "      <td>0.0</td>\n",
       "      <td>0.0</td>\n",
       "    </tr>\n",
       "    <tr>\n",
       "      <th>2</th>\n",
       "      <td>307</td>\n",
       "      <td>1993</td>\n",
       "      <td>0.0</td>\n",
       "      <td>0.0</td>\n",
       "      <td>0.0</td>\n",
       "      <td>0.0</td>\n",
       "      <td>0.0</td>\n",
       "      <td>0.0</td>\n",
       "      <td>0.0</td>\n",
       "      <td>1.0</td>\n",
       "      <td>...</td>\n",
       "      <td>0.0</td>\n",
       "      <td>0.0</td>\n",
       "      <td>0.0</td>\n",
       "      <td>0.0</td>\n",
       "      <td>0.0</td>\n",
       "      <td>0.0</td>\n",
       "      <td>0.0</td>\n",
       "      <td>0.0</td>\n",
       "      <td>0.0</td>\n",
       "      <td>0.0</td>\n",
       "    </tr>\n",
       "    <tr>\n",
       "      <th>3</th>\n",
       "      <td>1591</td>\n",
       "      <td>1997</td>\n",
       "      <td>1.0</td>\n",
       "      <td>1.0</td>\n",
       "      <td>0.0</td>\n",
       "      <td>0.0</td>\n",
       "      <td>0.0</td>\n",
       "      <td>0.0</td>\n",
       "      <td>0.0</td>\n",
       "      <td>0.0</td>\n",
       "      <td>...</td>\n",
       "      <td>0.0</td>\n",
       "      <td>0.0</td>\n",
       "      <td>0.0</td>\n",
       "      <td>0.0</td>\n",
       "      <td>0.0</td>\n",
       "      <td>0.0</td>\n",
       "      <td>1.0</td>\n",
       "      <td>1.0</td>\n",
       "      <td>0.0</td>\n",
       "      <td>0.0</td>\n",
       "    </tr>\n",
       "    <tr>\n",
       "      <th>4</th>\n",
       "      <td>3826</td>\n",
       "      <td>2000</td>\n",
       "      <td>0.0</td>\n",
       "      <td>0.0</td>\n",
       "      <td>0.0</td>\n",
       "      <td>0.0</td>\n",
       "      <td>0.0</td>\n",
       "      <td>0.0</td>\n",
       "      <td>0.0</td>\n",
       "      <td>0.0</td>\n",
       "      <td>...</td>\n",
       "      <td>0.0</td>\n",
       "      <td>1.0</td>\n",
       "      <td>0.0</td>\n",
       "      <td>0.0</td>\n",
       "      <td>0.0</td>\n",
       "      <td>0.0</td>\n",
       "      <td>1.0</td>\n",
       "      <td>1.0</td>\n",
       "      <td>0.0</td>\n",
       "      <td>0.0</td>\n",
       "    </tr>\n",
       "  </tbody>\n",
       "</table>\n",
       "<p>5 rows × 21 columns</p>\n",
       "</div>"
      ],
      "text/plain": [
       "   movieId  Release Year  Action  Adventure  Animation  Children  Comedy  \\\n",
       "0     2840          1999     0.0        0.0        0.0       0.0     0.0   \n",
       "1      481          1993     0.0        0.0        0.0       0.0     0.0   \n",
       "2      307          1993     0.0        0.0        0.0       0.0     0.0   \n",
       "3     1591          1997     1.0        1.0        0.0       0.0     0.0   \n",
       "4     3826          2000     0.0        0.0        0.0       0.0     0.0   \n",
       "\n",
       "   Crime  Documentary  Drama  ...  Film-Noir  Horror  IMAX  Musical  Mystery  \\\n",
       "0    0.0          0.0    1.0  ...        0.0     0.0   0.0      0.0      0.0   \n",
       "1    0.0          0.0    1.0  ...        0.0     0.0   0.0      0.0      0.0   \n",
       "2    0.0          0.0    1.0  ...        0.0     0.0   0.0      0.0      0.0   \n",
       "3    0.0          0.0    0.0  ...        0.0     0.0   0.0      0.0      0.0   \n",
       "4    0.0          0.0    0.0  ...        0.0     1.0   0.0      0.0      0.0   \n",
       "\n",
       "   Romance  Sci-Fi  Thriller  War  Western  \n",
       "0      0.0     0.0       1.0  0.0      0.0  \n",
       "1      0.0     0.0       1.0  0.0      0.0  \n",
       "2      0.0     0.0       0.0  0.0      0.0  \n",
       "3      0.0     1.0       1.0  0.0      0.0  \n",
       "4      0.0     1.0       1.0  0.0      0.0  \n",
       "\n",
       "[5 rows x 21 columns]"
      ]
     },
     "execution_count": 5,
     "metadata": {},
     "output_type": "execute_result"
    }
   ],
   "source": [
    "# view movie dataset\n",
    "print(f'shape of dataset: {mv_train.shape}')\n",
    "mv_train.head()"
   ]
  },
  {
   "cell_type": "code",
   "execution_count": 6,
   "metadata": {},
   "outputs": [
    {
     "name": "stdout",
     "output_type": "stream",
     "text": [
      "shape of dataset: (600000, 21)\n"
     ]
    },
    {
     "data": {
      "text/html": [
       "<div>\n",
       "<style scoped>\n",
       "    .dataframe tbody tr th:only-of-type {\n",
       "        vertical-align: middle;\n",
       "    }\n",
       "\n",
       "    .dataframe tbody tr th {\n",
       "        vertical-align: top;\n",
       "    }\n",
       "\n",
       "    .dataframe thead th {\n",
       "        text-align: right;\n",
       "    }\n",
       "</style>\n",
       "<table border=\"1\" class=\"dataframe\">\n",
       "  <thead>\n",
       "    <tr style=\"text-align: right;\">\n",
       "      <th></th>\n",
       "      <th>userId</th>\n",
       "      <th>(no genres listed)</th>\n",
       "      <th>Action</th>\n",
       "      <th>Adventure</th>\n",
       "      <th>Animation</th>\n",
       "      <th>Children</th>\n",
       "      <th>Comedy</th>\n",
       "      <th>Crime</th>\n",
       "      <th>Documentary</th>\n",
       "      <th>Drama</th>\n",
       "      <th>...</th>\n",
       "      <th>Film-Noir</th>\n",
       "      <th>Horror</th>\n",
       "      <th>IMAX</th>\n",
       "      <th>Musical</th>\n",
       "      <th>Mystery</th>\n",
       "      <th>Romance</th>\n",
       "      <th>Sci-Fi</th>\n",
       "      <th>Thriller</th>\n",
       "      <th>War</th>\n",
       "      <th>Western</th>\n",
       "    </tr>\n",
       "  </thead>\n",
       "  <tbody>\n",
       "    <tr>\n",
       "      <th>0</th>\n",
       "      <td>1</td>\n",
       "      <td>0.0</td>\n",
       "      <td>2.7</td>\n",
       "      <td>1.5</td>\n",
       "      <td>0.0</td>\n",
       "      <td>0.0</td>\n",
       "      <td>4.0</td>\n",
       "      <td>3.0</td>\n",
       "      <td>0.0</td>\n",
       "      <td>3.5</td>\n",
       "      <td>...</td>\n",
       "      <td>0.0</td>\n",
       "      <td>2.2</td>\n",
       "      <td>0.0</td>\n",
       "      <td>0.0</td>\n",
       "      <td>0.0</td>\n",
       "      <td>3.5</td>\n",
       "      <td>2.1</td>\n",
       "      <td>2.6</td>\n",
       "      <td>0.0</td>\n",
       "      <td>0.0</td>\n",
       "    </tr>\n",
       "    <tr>\n",
       "      <th>1</th>\n",
       "      <td>1</td>\n",
       "      <td>0.0</td>\n",
       "      <td>2.7</td>\n",
       "      <td>1.5</td>\n",
       "      <td>0.0</td>\n",
       "      <td>0.0</td>\n",
       "      <td>4.0</td>\n",
       "      <td>3.0</td>\n",
       "      <td>0.0</td>\n",
       "      <td>3.5</td>\n",
       "      <td>...</td>\n",
       "      <td>0.0</td>\n",
       "      <td>2.2</td>\n",
       "      <td>0.0</td>\n",
       "      <td>0.0</td>\n",
       "      <td>0.0</td>\n",
       "      <td>3.5</td>\n",
       "      <td>2.1</td>\n",
       "      <td>2.6</td>\n",
       "      <td>0.0</td>\n",
       "      <td>0.0</td>\n",
       "    </tr>\n",
       "    <tr>\n",
       "      <th>2</th>\n",
       "      <td>1</td>\n",
       "      <td>0.0</td>\n",
       "      <td>2.7</td>\n",
       "      <td>1.5</td>\n",
       "      <td>0.0</td>\n",
       "      <td>0.0</td>\n",
       "      <td>4.0</td>\n",
       "      <td>3.0</td>\n",
       "      <td>0.0</td>\n",
       "      <td>3.5</td>\n",
       "      <td>...</td>\n",
       "      <td>0.0</td>\n",
       "      <td>2.2</td>\n",
       "      <td>0.0</td>\n",
       "      <td>0.0</td>\n",
       "      <td>0.0</td>\n",
       "      <td>3.5</td>\n",
       "      <td>2.1</td>\n",
       "      <td>2.6</td>\n",
       "      <td>0.0</td>\n",
       "      <td>0.0</td>\n",
       "    </tr>\n",
       "    <tr>\n",
       "      <th>3</th>\n",
       "      <td>1</td>\n",
       "      <td>0.0</td>\n",
       "      <td>2.7</td>\n",
       "      <td>1.5</td>\n",
       "      <td>0.0</td>\n",
       "      <td>0.0</td>\n",
       "      <td>4.0</td>\n",
       "      <td>3.0</td>\n",
       "      <td>0.0</td>\n",
       "      <td>3.5</td>\n",
       "      <td>...</td>\n",
       "      <td>0.0</td>\n",
       "      <td>2.2</td>\n",
       "      <td>0.0</td>\n",
       "      <td>0.0</td>\n",
       "      <td>0.0</td>\n",
       "      <td>3.5</td>\n",
       "      <td>2.1</td>\n",
       "      <td>2.6</td>\n",
       "      <td>0.0</td>\n",
       "      <td>0.0</td>\n",
       "    </tr>\n",
       "    <tr>\n",
       "      <th>4</th>\n",
       "      <td>1</td>\n",
       "      <td>0.0</td>\n",
       "      <td>2.7</td>\n",
       "      <td>1.5</td>\n",
       "      <td>0.0</td>\n",
       "      <td>0.0</td>\n",
       "      <td>4.0</td>\n",
       "      <td>3.0</td>\n",
       "      <td>0.0</td>\n",
       "      <td>3.5</td>\n",
       "      <td>...</td>\n",
       "      <td>0.0</td>\n",
       "      <td>2.2</td>\n",
       "      <td>0.0</td>\n",
       "      <td>0.0</td>\n",
       "      <td>0.0</td>\n",
       "      <td>3.5</td>\n",
       "      <td>2.1</td>\n",
       "      <td>2.6</td>\n",
       "      <td>0.0</td>\n",
       "      <td>0.0</td>\n",
       "    </tr>\n",
       "  </tbody>\n",
       "</table>\n",
       "<p>5 rows × 21 columns</p>\n",
       "</div>"
      ],
      "text/plain": [
       "   userId  (no genres listed)  Action  Adventure  Animation  Children  Comedy  \\\n",
       "0       1                 0.0     2.7        1.5        0.0       0.0     4.0   \n",
       "1       1                 0.0     2.7        1.5        0.0       0.0     4.0   \n",
       "2       1                 0.0     2.7        1.5        0.0       0.0     4.0   \n",
       "3       1                 0.0     2.7        1.5        0.0       0.0     4.0   \n",
       "4       1                 0.0     2.7        1.5        0.0       0.0     4.0   \n",
       "\n",
       "   Crime  Documentary  Drama  ...  Film-Noir  Horror  IMAX  Musical  Mystery  \\\n",
       "0    3.0          0.0    3.5  ...        0.0     2.2   0.0      0.0      0.0   \n",
       "1    3.0          0.0    3.5  ...        0.0     2.2   0.0      0.0      0.0   \n",
       "2    3.0          0.0    3.5  ...        0.0     2.2   0.0      0.0      0.0   \n",
       "3    3.0          0.0    3.5  ...        0.0     2.2   0.0      0.0      0.0   \n",
       "4    3.0          0.0    3.5  ...        0.0     2.2   0.0      0.0      0.0   \n",
       "\n",
       "   Romance  Sci-Fi  Thriller  War  Western  \n",
       "0      3.5     2.1       2.6  0.0      0.0  \n",
       "1      3.5     2.1       2.6  0.0      0.0  \n",
       "2      3.5     2.1       2.6  0.0      0.0  \n",
       "3      3.5     2.1       2.6  0.0      0.0  \n",
       "4      3.5     2.1       2.6  0.0      0.0  \n",
       "\n",
       "[5 rows x 21 columns]"
      ]
     },
     "execution_count": 6,
     "metadata": {},
     "output_type": "execute_result"
    }
   ],
   "source": [
    "# view user dataset\n",
    "print(f'shape of dataset: {us_train.shape}')\n",
    "us_train.head()"
   ]
  },
  {
   "cell_type": "code",
   "execution_count": 7,
   "metadata": {},
   "outputs": [
    {
     "name": "stdout",
     "output_type": "stream",
     "text": [
      "shape of dataset: (600000, 1)\n"
     ]
    },
    {
     "data": {
      "text/html": [
       "<div>\n",
       "<style scoped>\n",
       "    .dataframe tbody tr th:only-of-type {\n",
       "        vertical-align: middle;\n",
       "    }\n",
       "\n",
       "    .dataframe tbody tr th {\n",
       "        vertical-align: top;\n",
       "    }\n",
       "\n",
       "    .dataframe thead th {\n",
       "        text-align: right;\n",
       "    }\n",
       "</style>\n",
       "<table border=\"1\" class=\"dataframe\">\n",
       "  <thead>\n",
       "    <tr style=\"text-align: right;\">\n",
       "      <th></th>\n",
       "      <th>rating</th>\n",
       "    </tr>\n",
       "  </thead>\n",
       "  <tbody>\n",
       "    <tr>\n",
       "      <th>0</th>\n",
       "      <td>3.0</td>\n",
       "    </tr>\n",
       "    <tr>\n",
       "      <th>1</th>\n",
       "      <td>3.5</td>\n",
       "    </tr>\n",
       "    <tr>\n",
       "      <th>2</th>\n",
       "      <td>3.5</td>\n",
       "    </tr>\n",
       "    <tr>\n",
       "      <th>3</th>\n",
       "      <td>1.5</td>\n",
       "    </tr>\n",
       "    <tr>\n",
       "      <th>4</th>\n",
       "      <td>2.0</td>\n",
       "    </tr>\n",
       "  </tbody>\n",
       "</table>\n",
       "</div>"
      ],
      "text/plain": [
       "   rating\n",
       "0     3.0\n",
       "1     3.5\n",
       "2     3.5\n",
       "3     1.5\n",
       "4     2.0"
      ]
     },
     "execution_count": 7,
     "metadata": {},
     "output_type": "execute_result"
    }
   ],
   "source": [
    "# view y hat \n",
    "print(f'shape of dataset: {y_train.shape}')\n",
    "y_train.head()"
   ]
  },
  {
   "cell_type": "code",
   "execution_count": 8,
   "metadata": {},
   "outputs": [],
   "source": [
    "# turn (y_hat) ratings dataframe to a 1D array\n",
    "y_train = y_train.values.flatten()"
   ]
  },
  {
   "cell_type": "code",
   "execution_count": 9,
   "metadata": {},
   "outputs": [
    {
     "name": "stdout",
     "output_type": "stream",
     "text": [
      "[3.  3.5 3.5 1.5 2. ]\n"
     ]
    }
   ],
   "source": [
    "print(y_train[:5])"
   ]
  },
  {
   "cell_type": "code",
   "execution_count": 10,
   "metadata": {},
   "outputs": [
    {
     "name": "stdout",
     "output_type": "stream",
     "text": [
      "True\n",
      "True\n"
     ]
    }
   ],
   "source": [
    "# scale training data\n",
    "item_train_unscaled = mv_train\n",
    "user_train_unscaled = us_train\n",
    "y_train_unscaled    = y_train\n",
    "\n",
    "scalerItem = StandardScaler()\n",
    "scalerItem.fit(mv_train)\n",
    "mv_train = scalerItem.transform(mv_train)\n",
    "\n",
    "scalerUser = StandardScaler()\n",
    "scalerUser.fit(us_train)\n",
    "us_train = scalerUser.transform(us_train)\n",
    "\n",
    "scalerTarget = MinMaxScaler((-1, 1))\n",
    "scalerTarget.fit(y_train.reshape(-1, 1))\n",
    "y_train = scalerTarget.transform(y_train.reshape(-1, 1))\n",
    "#ynorm_test = scalerTarget.transform(y_test.reshape(-1, 1))\n",
    "\n",
    "print(np.allclose(item_train_unscaled, scalerItem.inverse_transform(mv_train), equal_nan=True))\n",
    "print(np.allclose(user_train_unscaled, scalerUser.inverse_transform(us_train)))"
   ]
  },
  {
   "attachments": {},
   "cell_type": "markdown",
   "metadata": {},
   "source": [
    "Split data into training and test sets"
   ]
  },
  {
   "cell_type": "code",
   "execution_count": 11,
   "metadata": {},
   "outputs": [
    {
     "name": "stdout",
     "output_type": "stream",
     "text": [
      "movie/item training data shape: (480000, 21)\n",
      "movie/item test data shape: (120000, 21)\n"
     ]
    }
   ],
   "source": [
    "mv_train, item_test = train_test_split(mv_train, train_size=0.80, shuffle=True, random_state=1)\n",
    "us_train, user_test = train_test_split(us_train, train_size=0.80, shuffle=True, random_state=1)\n",
    "y_train, y_test       = train_test_split(y_train,    train_size=0.80, shuffle=True, random_state=1)\n",
    "print(f\"movie/item training data shape: {mv_train.shape}\")\n",
    "print(f\"movie/item test data shape: {item_test.shape}\")"
   ]
  },
  {
   "cell_type": "code",
   "execution_count": 12,
   "metadata": {},
   "outputs": [
    {
     "name": "stdout",
     "output_type": "stream",
     "text": [
      "scaled movie feature: \n",
      " [-0.59365555 -0.96022777 -0.66196456 -0.53724236 -0.27115992 -0.30015415\n",
      "  1.32284621 -0.46460436 -0.12427067  1.09847761 -0.3509867  -0.07953891\n",
      " -0.26829779 -0.23328973 -0.16379664 -0.30680257  2.04357694 -0.43915777\n",
      " -0.6588441  -0.21700081 -0.13079002] \n",
      "\n",
      "scaled user feature: \n",
      " [-1.27465419 -0.39388553 -0.3406056  -0.35707285  0.20298873 -0.02806365\n",
      " -0.26417513 -0.09738409  1.19899454 -0.02657825 -0.13498496  0.80629802\n",
      " -0.11259928  0.43425268  0.20549945 -0.07152251  0.09044831  0.31976052\n",
      " -0.2435045   0.23325987  0.63741139]\n"
     ]
    }
   ],
   "source": [
    "print(f'scaled movie feature: \\n {mv_train[0]} \\n')\n",
    "print(f'scaled user feature: \\n {us_train[0]}')"
   ]
  },
  {
   "cell_type": "code",
   "execution_count": 13,
   "metadata": {},
   "outputs": [
    {
     "name": "stdout",
     "output_type": "stream",
     "text": [
      "Model: \"model\"\n",
      "__________________________________________________________________________________________________\n",
      " Layer (type)                   Output Shape         Param #     Connected to                     \n",
      "==================================================================================================\n",
      " input_1 (InputLayer)           [(None, 19)]         0           []                               \n",
      "                                                                                                  \n",
      " input_2 (InputLayer)           [(None, 19)]         0           []                               \n",
      "                                                                                                  \n",
      " sequential (Sequential)        (None, 32)           113480      ['input_1[0][0]']                \n",
      "                                                                                                  \n",
      " sequential_1 (Sequential)      (None, 32)           113480      ['input_2[0][0]']                \n",
      "                                                                                                  \n",
      " tf.math.l2_normalize (TFOpLamb  (None, 32)          0           ['sequential[0][0]']             \n",
      " da)                                                                                              \n",
      "                                                                                                  \n",
      " tf.math.l2_normalize_1 (TFOpLa  (None, 32)          0           ['sequential_1[0][0]']           \n",
      " mbda)                                                                                            \n",
      "                                                                                                  \n",
      " dot (Dot)                      (None, 1)            0           ['tf.math.l2_normalize[0][0]',   \n",
      "                                                                  'tf.math.l2_normalize_1[0][0]'] \n",
      "                                                                                                  \n",
      "==================================================================================================\n",
      "Total params: 226,960\n",
      "Trainable params: 226,960\n",
      "Non-trainable params: 0\n",
      "__________________________________________________________________________________________________\n"
     ]
    }
   ],
   "source": [
    "num_outputs = 32\n",
    "tf.random.set_seed(1)\n",
    "user_NN = tf.keras.models.Sequential([    \n",
    "    tf.keras.layers.Dense(738, activation='relu'),\n",
    "    tf.keras.layers.Dense(128, activation='relu'),\n",
    "    tf.keras.layers.Dense(num_outputs)\n",
    "  \n",
    "])\n",
    "\n",
    "item_NN = tf.keras.models.Sequential([\n",
    "  \n",
    "    tf.keras.layers.Dense(738, activation='relu'),\n",
    "    tf.keras.layers.Dense(128, activation='relu'),\n",
    "    tf.keras.layers.Dense(num_outputs)\n",
    "\n",
    "])\n",
    "\n",
    "# create the user input and point to the base network\n",
    "input_user = tf.keras.layers.Input(shape=(num_user_features))\n",
    "vu = user_NN(input_user)\n",
    "vu = tf.linalg.l2_normalize(vu, axis=1)\n",
    "\n",
    "# create the item input and point to the base network\n",
    "input_item = tf.keras.layers.Input(shape=(num_item_features))\n",
    "vm = item_NN(input_item)\n",
    "vm = tf.linalg.l2_normalize(vm, axis=1)\n",
    "\n",
    "# compute the dot product of the two vectors vu and vm\n",
    "output = tf.keras.layers.Dot(axes=1)([vu, vm])\n",
    "\n",
    "# specify the inputs and output of the model\n",
    "model = tf.keras.Model([input_user, input_item], output)\n",
    "\n",
    "model.summary()"
   ]
  },
  {
   "cell_type": "code",
   "execution_count": 14,
   "metadata": {},
   "outputs": [],
   "source": [
    "tf.random.set_seed(1)\n",
    "cost_fn = tf.keras.losses.MeanSquaredError()\n",
    "opt = keras.optimizers.Adam(learning_rate=0.001)\n",
    "model.compile(optimizer=opt,\n",
    "              loss=cost_fn)"
   ]
  },
  {
   "cell_type": "code",
   "execution_count": 15,
   "metadata": {},
   "outputs": [
    {
     "name": "stdout",
     "output_type": "stream",
     "text": [
      "Epoch 1/30\n",
      "1875/1875 [==============================] - 8s 4ms/step - loss: 0.1568\n",
      "Epoch 2/30\n",
      "1875/1875 [==============================] - 6s 3ms/step - loss: 0.1498\n",
      "Epoch 3/30\n",
      "1875/1875 [==============================] - 7s 4ms/step - loss: 0.1478\n",
      "Epoch 4/30\n",
      "1875/1875 [==============================] - 7s 4ms/step - loss: 0.1465\n",
      "Epoch 5/30\n",
      "1875/1875 [==============================] - 7s 4ms/step - loss: 0.1455\n",
      "Epoch 6/30\n",
      "1875/1875 [==============================] - 6s 3ms/step - loss: 0.1448\n",
      "Epoch 7/30\n",
      "1875/1875 [==============================] - 7s 3ms/step - loss: 0.1442\n",
      "Epoch 8/30\n",
      "1875/1875 [==============================] - 6s 3ms/step - loss: 0.1437\n",
      "Epoch 9/30\n",
      "1875/1875 [==============================] - 6s 3ms/step - loss: 0.1433\n",
      "Epoch 10/30\n",
      "1875/1875 [==============================] - 7s 3ms/step - loss: 0.1429\n",
      "Epoch 11/30\n",
      "1875/1875 [==============================] - 6s 3ms/step - loss: 0.1426\n",
      "Epoch 12/30\n",
      "1875/1875 [==============================] - 7s 3ms/step - loss: 0.1422\n",
      "Epoch 13/30\n",
      "1875/1875 [==============================] - 6s 3ms/step - loss: 0.1419\n",
      "Epoch 14/30\n",
      "1875/1875 [==============================] - 7s 3ms/step - loss: 0.1417\n",
      "Epoch 15/30\n",
      "1875/1875 [==============================] - 7s 4ms/step - loss: 0.1415\n",
      "Epoch 16/30\n",
      "1875/1875 [==============================] - 6s 3ms/step - loss: 0.1412\n",
      "Epoch 17/30\n",
      "1875/1875 [==============================] - 6s 3ms/step - loss: 0.1411\n",
      "Epoch 18/30\n",
      "1875/1875 [==============================] - 6s 3ms/step - loss: 0.1409\n",
      "Epoch 19/30\n",
      "1875/1875 [==============================] - 7s 3ms/step - loss: 0.1407\n",
      "Epoch 20/30\n",
      "1875/1875 [==============================] - 7s 4ms/step - loss: 0.1406\n",
      "Epoch 21/30\n",
      "1875/1875 [==============================] - 6s 3ms/step - loss: 0.1404\n",
      "Epoch 22/30\n",
      "1875/1875 [==============================] - 7s 4ms/step - loss: 0.1402\n",
      "Epoch 23/30\n",
      "1875/1875 [==============================] - 7s 4ms/step - loss: 0.1401\n",
      "Epoch 24/30\n",
      "1875/1875 [==============================] - 7s 3ms/step - loss: 0.1399\n",
      "Epoch 25/30\n",
      "1875/1875 [==============================] - 7s 4ms/step - loss: 0.1397\n",
      "Epoch 26/30\n",
      "1875/1875 [==============================] - 7s 4ms/step - loss: 0.1396\n",
      "Epoch 27/30\n",
      "1875/1875 [==============================] - 7s 4ms/step - loss: 0.1395\n",
      "Epoch 28/30\n",
      "1875/1875 [==============================] - 7s 4ms/step - loss: 0.1394\n",
      "Epoch 29/30\n",
      "1875/1875 [==============================] - 7s 4ms/step - loss: 0.1393\n",
      "Epoch 30/30\n",
      "1875/1875 [==============================] - 7s 4ms/step - loss: 0.1392\n"
     ]
    }
   ],
   "source": [
    "tf.random.set_seed(1)\n",
    "history = model.fit([us_train[:,2:], mv_train[:, 2:]], y_train, batch_size=BATCH_SIZE, epochs=30)"
   ]
  },
  {
   "cell_type": "code",
   "execution_count": 17,
   "metadata": {},
   "outputs": [
    {
     "name": "stdout",
     "output_type": "stream",
     "text": [
      "3750/3750 [==============================] - 7s 2ms/step - loss: 0.1465\n"
     ]
    },
    {
     "data": {
      "text/plain": [
       "0.14645935595035553"
      ]
     },
     "execution_count": 17,
     "metadata": {},
     "output_type": "execute_result"
    }
   ],
   "source": [
    "model.evaluate([user_test[:,2:], item_test[:, 2:]], y_test)"
   ]
  },
  {
   "cell_type": "code",
   "execution_count": 24,
   "metadata": {},
   "outputs": [],
   "source": [
    "new_user_id = 30000\n",
    "new_rating_ave = 0.0\n",
    "new_action = 5.0\n",
    "new_adventure = 5.0\n",
    "new_animation = 0.0\n",
    "new_childrens = 0.0\n",
    "new_comedy = 5.0\n",
    "new_crime = 0.0\n",
    "new_documentary = 0.0\n",
    "new_drama = 0.0\n",
    "new_fantasy = 5.0\n",
    "new_film_noir = 0.0\n",
    "new_horror = 0.0\n",
    "new_imax = 0.0\n",
    "new_musical = 0.0\n",
    "new_mystery = 0.0\n",
    "new_romance = 0.0\n",
    "new_scifi = 0.0\n",
    "new_thriller = 0.0\n",
    "new_war = 0.0\n",
    "new_western = 0.0\n",
    "\n",
    "user_vec = np.array([[new_user_id, new_rating_ave,\n",
    "                      new_action, new_adventure, new_animation, new_childrens,\n",
    "                      new_comedy, new_crime, new_documentary,\n",
    "                      new_drama, new_fantasy, new_film_noir, new_horror, new_imax, new_mystery,\n",
    "                      new_musical, new_romance, new_scifi, new_thriller, new_war, \n",
    "                      new_western]])"
   ]
  },
  {
   "cell_type": "code",
   "execution_count": 25,
   "metadata": {},
   "outputs": [],
   "source": [
    "item_vecs = genfromtxt('item_vecs.csv', delimiter=',')"
   ]
  },
  {
   "cell_type": "code",
   "execution_count": 26,
   "metadata": {},
   "outputs": [],
   "source": [
    "# create a movie dictionary for pulling out needed movies\n",
    "movie_dict = defaultdict(dict)\n",
    "count = 0\n",
    "\n",
    "with open('ml-latest/movies.csv', newline='') as csvfile:\n",
    "    reader = csv.reader(csvfile, delimiter=',', quotechar='\"')\n",
    "    for line in reader:\n",
    "        if count == 0:\n",
    "            count += 1  #skip header\n",
    "            #print(line) print\n",
    "        else:\n",
    "            count += 1\n",
    "            movie_id = int(line[0])\n",
    "            movie_dict[movie_id][\"title\"] = line[1]\n",
    "            movie_dict[movie_id][\"genres\"] = line[2]"
   ]
  },
  {
   "cell_type": "code",
   "execution_count": 27,
   "metadata": {},
   "outputs": [],
   "source": [
    "# generate a copy of user vector with matching number of movies in the dataset\n",
    "def gen_user_vecs(user_vec, num_items):\n",
    "    \"\"\" given a user vector return:\n",
    "        user predict maxtrix to match the size of item_vecs \"\"\"\n",
    "    user_vecs = np.tile(user_vec, (num_items, 1))\n",
    "    return user_vecs"
   ]
  },
  {
   "cell_type": "code",
   "execution_count": 28,
   "metadata": {},
   "outputs": [],
   "source": [
    "# print predicted movies in a table form for the new user\n",
    "def print_pred_movies(y_p, item, movie_dict, maxcount=10):\n",
    "    \"\"\" print results of prediction of a new user. inputs are expected to be in\n",
    "        sorted order, unscaled. \"\"\"\n",
    "    count = 0\n",
    "    disp = [[\"y_p\", \"movie id\", \"rating ave\", \"title\", \"genres\"]]\n",
    "\n",
    "    for i in range(0, y_p.shape[0]):\n",
    "        if count == maxcount:\n",
    "            break\n",
    "        count += 1\n",
    "        movie_id = item[i, 0].astype(int)\n",
    "        disp.append([np.around(y_p[i, 0], 1), item[i, 0].astype(int), np.around(item[i, 2].astype(float), 1),\n",
    "                     movie_dict[movie_id]['title'], movie_dict[movie_id]['genres']])\n",
    "\n",
    "    table = tabulate.tabulate(disp, tablefmt='html', headers=\"firstrow\")\n",
    "    return table\n"
   ]
  },
  {
   "cell_type": "code",
   "execution_count": 29,
   "metadata": {},
   "outputs": [
    {
     "name": "stdout",
     "output_type": "stream",
     "text": [
      "  58/1081 [>.............................] - ETA: 1s"
     ]
    },
    {
     "name": "stderr",
     "output_type": "stream",
     "text": [
      "c:\\Users\\danie\\miniconda3\\envs\\tf\\lib\\site-packages\\sklearn\\base.py:450: UserWarning: X does not have valid feature names, but StandardScaler was fitted with feature names\n",
      "  warnings.warn(\n",
      "c:\\Users\\danie\\miniconda3\\envs\\tf\\lib\\site-packages\\sklearn\\base.py:450: UserWarning: X does not have valid feature names, but StandardScaler was fitted with feature names\n",
      "  warnings.warn(\n"
     ]
    },
    {
     "name": "stdout",
     "output_type": "stream",
     "text": [
      "1081/1081 [==============================] - 2s 2ms/step\n"
     ]
    },
    {
     "data": {
      "text/html": [
       "<table>\n",
       "<thead>\n",
       "<tr><th style=\"text-align: right;\">  y_p</th><th style=\"text-align: right;\">  movie id</th><th style=\"text-align: right;\">  rating ave</th><th>title                                                                                  </th><th>genres                 </th></tr>\n",
       "</thead>\n",
       "<tbody>\n",
       "<tr><td style=\"text-align: right;\">  4.6</td><td style=\"text-align: right;\">    176101</td><td style=\"text-align: right;\">           1</td><td>Kingsman: The Golden Circle (2017)                                                     </td><td>Action|Adventure|Comedy</td></tr>\n",
       "<tr><td style=\"text-align: right;\">  4.6</td><td style=\"text-align: right;\">    159690</td><td style=\"text-align: right;\">           1</td><td>Teenage Mutant Ninja Turtles: Out of the Shadows (2016)                                </td><td>Action|Adventure|Comedy</td></tr>\n",
       "<tr><td style=\"text-align: right;\">  4.6</td><td style=\"text-align: right;\">    117440</td><td style=\"text-align: right;\">           1</td><td>Lupin the 3rd (2014)                                                                   </td><td>Action|Adventure|Comedy</td></tr>\n",
       "<tr><td style=\"text-align: right;\">  4.6</td><td style=\"text-align: right;\">    183583</td><td style=\"text-align: right;\">           1</td><td>The King&#x27;s Case Note (2017)                                                            </td><td>Action|Adventure|Comedy</td></tr>\n",
       "<tr><td style=\"text-align: right;\">  4.6</td><td style=\"text-align: right;\">    139797</td><td style=\"text-align: right;\">           1</td><td>Smosh: The Movie (2015)                                                                </td><td>Action|Adventure|Comedy</td></tr>\n",
       "<tr><td style=\"text-align: right;\">  4.6</td><td style=\"text-align: right;\">     32596</td><td style=\"text-align: right;\">           1</td><td>Sahara (2005)                                                                          </td><td>Action|Adventure|Comedy</td></tr>\n",
       "<tr><td style=\"text-align: right;\">  4.6</td><td style=\"text-align: right;\">    138036</td><td style=\"text-align: right;\">           1</td><td>The Man from U.N.C.L.E. (2015)                                                         </td><td>Action|Adventure|Comedy</td></tr>\n",
       "<tr><td style=\"text-align: right;\">  4.6</td><td style=\"text-align: right;\">    171379</td><td style=\"text-align: right;\">           1</td><td>Ali Baba ve 7 Cüceler (2015)                                                           </td><td>Action|Adventure|Comedy</td></tr>\n",
       "<tr><td style=\"text-align: right;\">  4.6</td><td style=\"text-align: right;\">     31330</td><td style=\"text-align: right;\">           1</td><td>Strawberries in the Supermarket (Jagoda u supermarketu) (2003)                         </td><td>Action|Adventure|Comedy</td></tr>\n",
       "<tr><td style=\"text-align: right;\">  4.6</td><td style=\"text-align: right;\">    125527</td><td style=\"text-align: right;\">           1</td><td>Slap Shot 3: The Junior League (2008)                                                  </td><td>Action|Adventure|Comedy</td></tr>\n",
       "<tr><td style=\"text-align: right;\">  4.6</td><td style=\"text-align: right;\">      2683</td><td style=\"text-align: right;\">           1</td><td>Austin Powers: The Spy Who Shagged Me (1999)                                           </td><td>Action|Adventure|Comedy</td></tr>\n",
       "<tr><td style=\"text-align: right;\">  4.6</td><td style=\"text-align: right;\">    120944</td><td style=\"text-align: right;\">           1</td><td>The Hire: Beat the Devil (2002)                                                        </td><td>Action|Adventure|Comedy</td></tr>\n",
       "<tr><td style=\"text-align: right;\">  4.6</td><td style=\"text-align: right;\">    140160</td><td style=\"text-align: right;\">           1</td><td>Descendants (2015)                                                                     </td><td>Action|Adventure|Comedy</td></tr>\n",
       "<tr><td style=\"text-align: right;\">  4.6</td><td style=\"text-align: right;\">     76743</td><td style=\"text-align: right;\">           1</td><td>Mortadelo &amp; Filemon: The Big Adventure (La gran aventura de Mortadelo y Filemón) (2003)</td><td>Action|Adventure|Comedy</td></tr>\n",
       "<tr><td style=\"text-align: right;\">  4.6</td><td style=\"text-align: right;\">      6156</td><td style=\"text-align: right;\">           1</td><td>Shanghai Knights (2003)                                                                </td><td>Action|Adventure|Comedy</td></tr>\n",
       "<tr><td style=\"text-align: right;\">  4.6</td><td style=\"text-align: right;\">    102280</td><td style=\"text-align: right;\">           1</td><td>Manborg (2011)                                                                         </td><td>Action|Adventure|Comedy</td></tr>\n",
       "<tr><td style=\"text-align: right;\">  4.6</td><td style=\"text-align: right;\">      6764</td><td style=\"text-align: right;\">           1</td><td>Rundown, The (2003)                                                                    </td><td>Action|Adventure|Comedy</td></tr>\n",
       "<tr><td style=\"text-align: right;\">  4.6</td><td style=\"text-align: right;\">    187071</td><td style=\"text-align: right;\">           1</td><td>Bindlestiffs (2012)                                                                    </td><td>Action|Adventure|Comedy</td></tr>\n",
       "<tr><td style=\"text-align: right;\">  4.6</td><td style=\"text-align: right;\">    186969</td><td style=\"text-align: right;\">           1</td><td>Big City Blues (1997)                                                                  </td><td>Action|Adventure|Comedy</td></tr>\n",
       "<tr><td style=\"text-align: right;\">  4.6</td><td style=\"text-align: right;\">      2879</td><td style=\"text-align: right;\">           1</td><td>Armour of God II: Operation Condor (Operation Condor) (Fei ying gai wak) (1991)        </td><td>Action|Adventure|Comedy</td></tr>\n",
       "<tr><td style=\"text-align: right;\">  4.6</td><td style=\"text-align: right;\">    164379</td><td style=\"text-align: right;\">           1</td><td>Bounty Hunters (2016)                                                                  </td><td>Action|Adventure|Comedy</td></tr>\n",
       "<tr><td style=\"text-align: right;\">  4.6</td><td style=\"text-align: right;\">      1517</td><td style=\"text-align: right;\">           1</td><td>Austin Powers: International Man of Mystery (1997)                                     </td><td>Action|Adventure|Comedy</td></tr>\n",
       "<tr><td style=\"text-align: right;\">  4.6</td><td style=\"text-align: right;\">    122952</td><td style=\"text-align: right;\">           1</td><td>Ring Of The Musketeers (1992)                                                          </td><td>Action|Adventure|Comedy</td></tr>\n",
       "<tr><td style=\"text-align: right;\">  4.6</td><td style=\"text-align: right;\">    140463</td><td style=\"text-align: right;\">           1</td><td>I Spy Returns (1994)                                                                   </td><td>Action|Adventure|Comedy</td></tr>\n",
       "<tr><td style=\"text-align: right;\">  4.6</td><td style=\"text-align: right;\">    164825</td><td style=\"text-align: right;\">           1</td><td>Drunken Monkey (2002)                                                                  </td><td>Action|Adventure|Comedy</td></tr>\n",
       "<tr><td style=\"text-align: right;\">  4.6</td><td style=\"text-align: right;\">    113348</td><td style=\"text-align: right;\">           1</td><td>Teenage Mutant Ninja Turtles (2014)                                                    </td><td>Action|Adventure|Comedy</td></tr>\n",
       "<tr><td style=\"text-align: right;\">  4.6</td><td style=\"text-align: right;\">      7000</td><td style=\"text-align: right;\">           1</td><td>Hudson Hawk (1991)                                                                     </td><td>Action|Adventure|Comedy</td></tr>\n",
       "<tr><td style=\"text-align: right;\">  4.6</td><td style=\"text-align: right;\">    166165</td><td style=\"text-align: right;\">           1</td><td>The Huntresses (2014)                                                                  </td><td>Action|Adventure|Comedy</td></tr>\n",
       "<tr><td style=\"text-align: right;\">  4.6</td><td style=\"text-align: right;\">     26818</td><td style=\"text-align: right;\">           1</td><td>Legend II, The (Fong Sai Yuk juk jaap) (1993)                                          </td><td>Action|Adventure|Comedy</td></tr>\n",
       "<tr><td style=\"text-align: right;\">  4.6</td><td style=\"text-align: right;\">    192525</td><td style=\"text-align: right;\">           1</td><td>Moscow Gold (2003)                                                                     </td><td>Action|Adventure|Comedy</td></tr>\n",
       "<tr><td style=\"text-align: right;\">  4.6</td><td style=\"text-align: right;\">    177567</td><td style=\"text-align: right;\">           1</td><td>Gun Shy (2017)                                                                         </td><td>Action|Adventure|Comedy</td></tr>\n",
       "<tr><td style=\"text-align: right;\">  4.6</td><td style=\"text-align: right;\">    104379</td><td style=\"text-align: right;\">           1</td><td>Chennai Express (2013)                                                                 </td><td>Action|Adventure|Comedy</td></tr>\n",
       "<tr><td style=\"text-align: right;\">  4.6</td><td style=\"text-align: right;\">      7453</td><td style=\"text-align: right;\">           1</td><td>New York Minute (2004)                                                                 </td><td>Action|Adventure|Comedy</td></tr>\n",
       "<tr><td style=\"text-align: right;\">  4.6</td><td style=\"text-align: right;\">     84619</td><td style=\"text-align: right;\">           1</td><td>Tongan Ninja (2002)                                                                    </td><td>Action|Adventure|Comedy</td></tr>\n",
       "<tr><td style=\"text-align: right;\">  4.6</td><td style=\"text-align: right;\">     53004</td><td style=\"text-align: right;\">           1</td><td>Delta Farce (2007)                                                                     </td><td>Action|Adventure|Comedy</td></tr>\n",
       "<tr><td style=\"text-align: right;\">  4.6</td><td style=\"text-align: right;\">      7915</td><td style=\"text-align: right;\">           1</td><td>Samurai Fiction (SF: Episode One) (1998)                                               </td><td>Action|Adventure|Comedy</td></tr>\n",
       "<tr><td style=\"text-align: right;\">  4.6</td><td style=\"text-align: right;\">    190609</td><td style=\"text-align: right;\">           1</td><td>The Tour (2008)                                                                        </td><td>Action|Adventure|Comedy</td></tr>\n",
       "<tr><td style=\"text-align: right;\">  4.6</td><td style=\"text-align: right;\">    128552</td><td style=\"text-align: right;\">           1</td><td>Jönssonligan - Den perfekta stöten (2015)                                              </td><td>Action|Adventure|Comedy</td></tr>\n",
       "<tr><td style=\"text-align: right;\">  4.6</td><td style=\"text-align: right;\">     34520</td><td style=\"text-align: right;\">           1</td><td>Dukes of Hazzard, The (2005)                                                           </td><td>Action|Adventure|Comedy</td></tr>\n",
       "<tr><td style=\"text-align: right;\">  4.6</td><td style=\"text-align: right;\">    172893</td><td style=\"text-align: right;\">           1</td><td>Solovey-Razboynik (2012)                                                               </td><td>Action|Adventure|Comedy</td></tr>\n",
       "</tbody>\n",
       "</table>"
      ],
      "text/plain": [
       "'<table>\\n<thead>\\n<tr><th style=\"text-align: right;\">  y_p</th><th style=\"text-align: right;\">  movie id</th><th style=\"text-align: right;\">  rating ave</th><th>title                                                                                  </th><th>genres                 </th></tr>\\n</thead>\\n<tbody>\\n<tr><td style=\"text-align: right;\">  4.6</td><td style=\"text-align: right;\">    176101</td><td style=\"text-align: right;\">           1</td><td>Kingsman: The Golden Circle (2017)                                                     </td><td>Action|Adventure|Comedy</td></tr>\\n<tr><td style=\"text-align: right;\">  4.6</td><td style=\"text-align: right;\">    159690</td><td style=\"text-align: right;\">           1</td><td>Teenage Mutant Ninja Turtles: Out of the Shadows (2016)                                </td><td>Action|Adventure|Comedy</td></tr>\\n<tr><td style=\"text-align: right;\">  4.6</td><td style=\"text-align: right;\">    117440</td><td style=\"text-align: right;\">           1</td><td>Lupin the 3rd (2014)                                                                   </td><td>Action|Adventure|Comedy</td></tr>\\n<tr><td style=\"text-align: right;\">  4.6</td><td style=\"text-align: right;\">    183583</td><td style=\"text-align: right;\">           1</td><td>The King&#x27;s Case Note (2017)                                                            </td><td>Action|Adventure|Comedy</td></tr>\\n<tr><td style=\"text-align: right;\">  4.6</td><td style=\"text-align: right;\">    139797</td><td style=\"text-align: right;\">           1</td><td>Smosh: The Movie (2015)                                                                </td><td>Action|Adventure|Comedy</td></tr>\\n<tr><td style=\"text-align: right;\">  4.6</td><td style=\"text-align: right;\">     32596</td><td style=\"text-align: right;\">           1</td><td>Sahara (2005)                                                                          </td><td>Action|Adventure|Comedy</td></tr>\\n<tr><td style=\"text-align: right;\">  4.6</td><td style=\"text-align: right;\">    138036</td><td style=\"text-align: right;\">           1</td><td>The Man from U.N.C.L.E. (2015)                                                         </td><td>Action|Adventure|Comedy</td></tr>\\n<tr><td style=\"text-align: right;\">  4.6</td><td style=\"text-align: right;\">    171379</td><td style=\"text-align: right;\">           1</td><td>Ali Baba ve 7 Cüceler (2015)                                                           </td><td>Action|Adventure|Comedy</td></tr>\\n<tr><td style=\"text-align: right;\">  4.6</td><td style=\"text-align: right;\">     31330</td><td style=\"text-align: right;\">           1</td><td>Strawberries in the Supermarket (Jagoda u supermarketu) (2003)                         </td><td>Action|Adventure|Comedy</td></tr>\\n<tr><td style=\"text-align: right;\">  4.6</td><td style=\"text-align: right;\">    125527</td><td style=\"text-align: right;\">           1</td><td>Slap Shot 3: The Junior League (2008)                                                  </td><td>Action|Adventure|Comedy</td></tr>\\n<tr><td style=\"text-align: right;\">  4.6</td><td style=\"text-align: right;\">      2683</td><td style=\"text-align: right;\">           1</td><td>Austin Powers: The Spy Who Shagged Me (1999)                                           </td><td>Action|Adventure|Comedy</td></tr>\\n<tr><td style=\"text-align: right;\">  4.6</td><td style=\"text-align: right;\">    120944</td><td style=\"text-align: right;\">           1</td><td>The Hire: Beat the Devil (2002)                                                        </td><td>Action|Adventure|Comedy</td></tr>\\n<tr><td style=\"text-align: right;\">  4.6</td><td style=\"text-align: right;\">    140160</td><td style=\"text-align: right;\">           1</td><td>Descendants (2015)                                                                     </td><td>Action|Adventure|Comedy</td></tr>\\n<tr><td style=\"text-align: right;\">  4.6</td><td style=\"text-align: right;\">     76743</td><td style=\"text-align: right;\">           1</td><td>Mortadelo &amp; Filemon: The Big Adventure (La gran aventura de Mortadelo y Filemón) (2003)</td><td>Action|Adventure|Comedy</td></tr>\\n<tr><td style=\"text-align: right;\">  4.6</td><td style=\"text-align: right;\">      6156</td><td style=\"text-align: right;\">           1</td><td>Shanghai Knights (2003)                                                                </td><td>Action|Adventure|Comedy</td></tr>\\n<tr><td style=\"text-align: right;\">  4.6</td><td style=\"text-align: right;\">    102280</td><td style=\"text-align: right;\">           1</td><td>Manborg (2011)                                                                         </td><td>Action|Adventure|Comedy</td></tr>\\n<tr><td style=\"text-align: right;\">  4.6</td><td style=\"text-align: right;\">      6764</td><td style=\"text-align: right;\">           1</td><td>Rundown, The (2003)                                                                    </td><td>Action|Adventure|Comedy</td></tr>\\n<tr><td style=\"text-align: right;\">  4.6</td><td style=\"text-align: right;\">    187071</td><td style=\"text-align: right;\">           1</td><td>Bindlestiffs (2012)                                                                    </td><td>Action|Adventure|Comedy</td></tr>\\n<tr><td style=\"text-align: right;\">  4.6</td><td style=\"text-align: right;\">    186969</td><td style=\"text-align: right;\">           1</td><td>Big City Blues (1997)                                                                  </td><td>Action|Adventure|Comedy</td></tr>\\n<tr><td style=\"text-align: right;\">  4.6</td><td style=\"text-align: right;\">      2879</td><td style=\"text-align: right;\">           1</td><td>Armour of God II: Operation Condor (Operation Condor) (Fei ying gai wak) (1991)        </td><td>Action|Adventure|Comedy</td></tr>\\n<tr><td style=\"text-align: right;\">  4.6</td><td style=\"text-align: right;\">    164379</td><td style=\"text-align: right;\">           1</td><td>Bounty Hunters (2016)                                                                  </td><td>Action|Adventure|Comedy</td></tr>\\n<tr><td style=\"text-align: right;\">  4.6</td><td style=\"text-align: right;\">      1517</td><td style=\"text-align: right;\">           1</td><td>Austin Powers: International Man of Mystery (1997)                                     </td><td>Action|Adventure|Comedy</td></tr>\\n<tr><td style=\"text-align: right;\">  4.6</td><td style=\"text-align: right;\">    122952</td><td style=\"text-align: right;\">           1</td><td>Ring Of The Musketeers (1992)                                                          </td><td>Action|Adventure|Comedy</td></tr>\\n<tr><td style=\"text-align: right;\">  4.6</td><td style=\"text-align: right;\">    140463</td><td style=\"text-align: right;\">           1</td><td>I Spy Returns (1994)                                                                   </td><td>Action|Adventure|Comedy</td></tr>\\n<tr><td style=\"text-align: right;\">  4.6</td><td style=\"text-align: right;\">    164825</td><td style=\"text-align: right;\">           1</td><td>Drunken Monkey (2002)                                                                  </td><td>Action|Adventure|Comedy</td></tr>\\n<tr><td style=\"text-align: right;\">  4.6</td><td style=\"text-align: right;\">    113348</td><td style=\"text-align: right;\">           1</td><td>Teenage Mutant Ninja Turtles (2014)                                                    </td><td>Action|Adventure|Comedy</td></tr>\\n<tr><td style=\"text-align: right;\">  4.6</td><td style=\"text-align: right;\">      7000</td><td style=\"text-align: right;\">           1</td><td>Hudson Hawk (1991)                                                                     </td><td>Action|Adventure|Comedy</td></tr>\\n<tr><td style=\"text-align: right;\">  4.6</td><td style=\"text-align: right;\">    166165</td><td style=\"text-align: right;\">           1</td><td>The Huntresses (2014)                                                                  </td><td>Action|Adventure|Comedy</td></tr>\\n<tr><td style=\"text-align: right;\">  4.6</td><td style=\"text-align: right;\">     26818</td><td style=\"text-align: right;\">           1</td><td>Legend II, The (Fong Sai Yuk juk jaap) (1993)                                          </td><td>Action|Adventure|Comedy</td></tr>\\n<tr><td style=\"text-align: right;\">  4.6</td><td style=\"text-align: right;\">    192525</td><td style=\"text-align: right;\">           1</td><td>Moscow Gold (2003)                                                                     </td><td>Action|Adventure|Comedy</td></tr>\\n<tr><td style=\"text-align: right;\">  4.6</td><td style=\"text-align: right;\">    177567</td><td style=\"text-align: right;\">           1</td><td>Gun Shy (2017)                                                                         </td><td>Action|Adventure|Comedy</td></tr>\\n<tr><td style=\"text-align: right;\">  4.6</td><td style=\"text-align: right;\">    104379</td><td style=\"text-align: right;\">           1</td><td>Chennai Express (2013)                                                                 </td><td>Action|Adventure|Comedy</td></tr>\\n<tr><td style=\"text-align: right;\">  4.6</td><td style=\"text-align: right;\">      7453</td><td style=\"text-align: right;\">           1</td><td>New York Minute (2004)                                                                 </td><td>Action|Adventure|Comedy</td></tr>\\n<tr><td style=\"text-align: right;\">  4.6</td><td style=\"text-align: right;\">     84619</td><td style=\"text-align: right;\">           1</td><td>Tongan Ninja (2002)                                                                    </td><td>Action|Adventure|Comedy</td></tr>\\n<tr><td style=\"text-align: right;\">  4.6</td><td style=\"text-align: right;\">     53004</td><td style=\"text-align: right;\">           1</td><td>Delta Farce (2007)                                                                     </td><td>Action|Adventure|Comedy</td></tr>\\n<tr><td style=\"text-align: right;\">  4.6</td><td style=\"text-align: right;\">      7915</td><td style=\"text-align: right;\">           1</td><td>Samurai Fiction (SF: Episode One) (1998)                                               </td><td>Action|Adventure|Comedy</td></tr>\\n<tr><td style=\"text-align: right;\">  4.6</td><td style=\"text-align: right;\">    190609</td><td style=\"text-align: right;\">           1</td><td>The Tour (2008)                                                                        </td><td>Action|Adventure|Comedy</td></tr>\\n<tr><td style=\"text-align: right;\">  4.6</td><td style=\"text-align: right;\">    128552</td><td style=\"text-align: right;\">           1</td><td>Jönssonligan - Den perfekta stöten (2015)                                              </td><td>Action|Adventure|Comedy</td></tr>\\n<tr><td style=\"text-align: right;\">  4.6</td><td style=\"text-align: right;\">     34520</td><td style=\"text-align: right;\">           1</td><td>Dukes of Hazzard, The (2005)                                                           </td><td>Action|Adventure|Comedy</td></tr>\\n<tr><td style=\"text-align: right;\">  4.6</td><td style=\"text-align: right;\">    172893</td><td style=\"text-align: right;\">           1</td><td>Solovey-Razboynik (2012)                                                               </td><td>Action|Adventure|Comedy</td></tr>\\n</tbody>\\n</table>'"
      ]
     },
     "execution_count": 29,
     "metadata": {},
     "output_type": "execute_result"
    }
   ],
   "source": [
    "# call gen_user_vecs\n",
    "user_vecs = gen_user_vecs(user_vec,len(item_vecs))\n",
    "\n",
    "# scale user and item vectors\n",
    "suser_vecs = scalerUser.transform(user_vecs)\n",
    "sitem_vecs = scalerItem.transform(item_vecs)\n",
    "\n",
    "# make a prediction\n",
    "y_p = model.predict([suser_vecs[:, 2:], sitem_vecs[:, 2:]])\n",
    "\n",
    "# unscale y prediction \n",
    "y_pu = scalerTarget.inverse_transform(y_p)\n",
    "\n",
    "# sort the results, highest prediction first\n",
    "sorted_index = np.argsort(-y_pu,axis=0).reshape(-1).tolist()  #negate to get largest rating first\n",
    "sorted_ypu   = y_pu[sorted_index]\n",
    "sorted_items = item_vecs[sorted_index]  #using unscaled vectors for display\n",
    "\n",
    "print_pred_movies(sorted_ypu, sorted_items, movie_dict, maxcount = 40)"
   ]
  },
  {
   "cell_type": "code",
   "execution_count": 30,
   "metadata": {},
   "outputs": [
    {
     "data": {
      "text/plain": [
       "array([[0.00000e+00, 0.00000e+00, 0.00000e+00, ..., 0.00000e+00,\n",
       "        0.00000e+00, 0.00000e+00],\n",
       "       [1.00000e+00, 1.99500e+03, 0.00000e+00, ..., 0.00000e+00,\n",
       "        0.00000e+00, 0.00000e+00],\n",
       "       [2.00000e+00, 1.99500e+03, 0.00000e+00, ..., 0.00000e+00,\n",
       "        0.00000e+00, 0.00000e+00],\n",
       "       ...,\n",
       "       [1.93880e+05, 1.99400e+03, 0.00000e+00, ..., 0.00000e+00,\n",
       "        0.00000e+00, 0.00000e+00],\n",
       "       [1.93882e+05, 0.00000e+00, 0.00000e+00, ..., 0.00000e+00,\n",
       "        0.00000e+00, 0.00000e+00],\n",
       "       [1.93886e+05, 1.99900e+03, 1.00000e+00, ..., 0.00000e+00,\n",
       "        0.00000e+00, 0.00000e+00]])"
      ]
     },
     "execution_count": 30,
     "metadata": {},
     "output_type": "execute_result"
    }
   ],
   "source": [
    "item_vecs = np.nan_to_num(item_vecs, nan=0)\n",
    "item_vecs"
   ]
  },
  {
   "cell_type": "code",
   "execution_count": 31,
   "metadata": {},
   "outputs": [],
   "source": [
    "def sq_dist(a,b):\n",
    "    \"\"\"\n",
    "    Returns the squared distance between two vectors\n",
    "    Args:\n",
    "      a (ndarray (n,)): vector with n features\n",
    "      b (ndarray (n,)): vector with n features\n",
    "    Returns:\n",
    "      d (float) : distance\n",
    "    \"\"\"\n",
    "    d = 0\n",
    "    s = a.shape\n",
    "    \n",
    "    d = np.sum(np.square(a - b))\n",
    "     \n",
    "    return d"
   ]
  },
  {
   "cell_type": "code",
   "execution_count": 32,
   "metadata": {},
   "outputs": [
    {
     "name": "stdout",
     "output_type": "stream",
     "text": [
      "Model: \"model_1\"\n",
      "_________________________________________________________________\n",
      " Layer (type)                Output Shape              Param #   \n",
      "=================================================================\n",
      " input_3 (InputLayer)        [(None, 19)]              0         \n",
      "                                                                 \n",
      " sequential_1 (Sequential)   (None, 32)                113480    \n",
      "                                                                 \n",
      " tf.math.l2_normalize_2 (TFO  (None, 32)               0         \n",
      " pLambda)                                                        \n",
      "                                                                 \n",
      "=================================================================\n",
      "Total params: 113,480\n",
      "Trainable params: 113,480\n",
      "Non-trainable params: 0\n",
      "_________________________________________________________________\n"
     ]
    }
   ],
   "source": [
    "input_item_m = tf.keras.layers.Input(shape=(num_item_features))    # input layer\n",
    "vm_m = item_NN(input_item_m)                                       # use the trained item_NN\n",
    "vm_m = tf.linalg.l2_normalize(vm_m, axis=1)                        # incorporate normalization as was done in the original model\n",
    "model_m = tf.keras.Model(input_item_m, vm_m)                                \n",
    "model_m.summary()"
   ]
  },
  {
   "cell_type": "code",
   "execution_count": 101,
   "metadata": {},
   "outputs": [
    {
     "name": "stdout",
     "output_type": "stream",
     "text": [
      " 58/313 [====>.........................] - ETA: 0s"
     ]
    },
    {
     "name": "stderr",
     "output_type": "stream",
     "text": [
      "c:\\Users\\danie\\miniconda3\\envs\\tf\\lib\\site-packages\\sklearn\\base.py:450: UserWarning: X does not have valid feature names, but StandardScaler was fitted with feature names\n",
      "  warnings.warn(\n"
     ]
    },
    {
     "name": "stdout",
     "output_type": "stream",
     "text": [
      "313/313 [==============================] - 0s 1ms/step\n",
      "size of all predicted movie feature vectors: (10000, 32)\n"
     ]
    }
   ],
   "source": [
    "scaled_item_vecs = scalerItem.transform(item_vecs[:10000])\n",
    "vms = model_m.predict(scaled_item_vecs[:,2:])\n",
    "print(f\"size of all predicted movie feature vectors: {vms.shape}\")"
   ]
  },
  {
   "cell_type": "code",
   "execution_count": 102,
   "metadata": {},
   "outputs": [],
   "source": [
    "dim = len(vms)\n",
    "dist = np.zeros((dim,dim))\n",
    "\n",
    "for i in range(dim):\n",
    "    for j in range(dim):\n",
    "        dist[i,j] = sq_dist(vms[i, :], vms[j, :])\n",
    "        \n",
    "m_dist = ma.masked_array(dist, mask=np.identity(dist.shape[0]))  # mask the diagonal\n"
   ]
  },
  {
   "cell_type": "code",
   "execution_count": 139,
   "metadata": {},
   "outputs": [],
   "source": [
    "count = 50\n",
    "disp = [[\"movie1\", \"genres\", \"movie2\", \"genres\"]]\n",
    "for i in range(count):\n",
    "    min_idx = np.argmin(m_dist[i])\n",
    "    movie1_id = int(item_vecs[i+1,0])\n",
    "    movie2_id = int(item_vecs[min_idx,0])\n",
    "    disp.append( [movie_dict[movie1_id]['title'], movie_dict[movie1_id]['genres'],\n",
    "                  movie_dict[movie2_id]['title'], movie_dict[movie1_id]['genres']]\n",
    "               )\n",
    "table = tabulate.tabulate(disp, tablefmt='html', headers=\"firstrow\")"
   ]
  },
  {
   "cell_type": "code",
   "execution_count": 140,
   "metadata": {},
   "outputs": [
    {
     "data": {
      "text/html": [
       "<table>\n",
       "<thead>\n",
       "<tr><th>movie1                                                         </th><th>genres                                     </th><th>movie2                                              </th><th>genres                                     </th></tr>\n",
       "</thead>\n",
       "<tbody>\n",
       "<tr><td>Toy Story (1995)                                               </td><td>Adventure|Animation|Children|Comedy|Fantasy</td><td>Kicking and Screaming (1995)                        </td><td>Adventure|Animation|Children|Comedy|Fantasy</td></tr>\n",
       "<tr><td>Jumanji (1995)                                                 </td><td>Adventure|Children|Fantasy                 </td><td>Antz (1998)                                         </td><td>Adventure|Children|Fantasy                 </td></tr>\n",
       "<tr><td>Grumpier Old Men (1995)                                        </td><td>Comedy|Romance                             </td><td>Indian in the Cupboard, The (1995)                  </td><td>Comedy|Romance                             </td></tr>\n",
       "<tr><td>Waiting to Exhale (1995)                                       </td><td>Comedy|Drama|Romance                       </td><td>Sabrina (1995)                                      </td><td>Comedy|Drama|Romance                       </td></tr>\n",
       "<tr><td>Father of the Bride Part II (1995)                             </td><td>Comedy                                     </td><td>American President, The (1995)                      </td><td>Comedy                                     </td></tr>\n",
       "<tr><td>Heat (1995)                                                    </td><td>Action|Crime|Thriller                      </td><td>Four Rooms (1995)                                   </td><td>Action|Crime|Thriller                      </td></tr>\n",
       "<tr><td>Sabrina (1995)                                                 </td><td>Comedy|Romance                             </td><td>Assassins (1995)                                    </td><td>Comedy|Romance                             </td></tr>\n",
       "<tr><td>Tom and Huck (1995)                                            </td><td>Adventure|Children                         </td><td>Grumpier Old Men (1995)                             </td><td>Adventure|Children                         </td></tr>\n",
       "<tr><td>Sudden Death (1995)                                            </td><td>Action                                     </td><td>Amazing Panda Adventure, The (1995)                 </td><td>Action                                     </td></tr>\n",
       "<tr><td>GoldenEye (1995)                                               </td><td>Action|Adventure|Thriller                  </td><td>Fair Game (1995)                                    </td><td>Action|Adventure|Thriller                  </td></tr>\n",
       "<tr><td>American President, The (1995)                                 </td><td>Comedy|Drama|Romance                       </td><td>Broken Arrow (1996)                                 </td><td>Comedy|Drama|Romance                       </td></tr>\n",
       "<tr><td>Dracula: Dead and Loving It (1995)                             </td><td>Comedy|Horror                              </td><td>Waiting to Exhale (1995)                            </td><td>Comedy|Horror                              </td></tr>\n",
       "<tr><td>Balto (1995)                                                   </td><td>Adventure|Animation|Children               </td><td>Careful (1992)                                      </td><td>Adventure|Animation|Children               </td></tr>\n",
       "<tr><td>Nixon (1995)                                                   </td><td>Drama                                      </td><td>Rescuers Down Under, The (1990)                     </td><td>Drama                                      </td></tr>\n",
       "<tr><td>Cutthroat Island (1995)                                        </td><td>Action|Adventure|Romance                   </td><td>Othello (1995)                                      </td><td>Action|Adventure|Romance                   </td></tr>\n",
       "<tr><td>Casino (1995)                                                  </td><td>Crime|Drama                                </td><td>Musketeer, The (2001)                               </td><td>Crime|Drama                                </td></tr>\n",
       "<tr><td>Sense and Sensibility (1995)                                   </td><td>Drama|Romance                              </td><td>Shanghai Triad (Yao a yao yao dao waipo qiao) (1995)</td><td>Drama|Romance                              </td></tr>\n",
       "<tr><td>Four Rooms (1995)                                              </td><td>Comedy                                     </td><td>Leaving Las Vegas (1995)                            </td><td>Comedy                                     </td></tr>\n",
       "<tr><td>Ace Ventura: When Nature Calls (1995)                          </td><td>Comedy                                     </td><td>Father of the Bride Part II (1995)                  </td><td>Comedy                                     </td></tr>\n",
       "<tr><td>Money Train (1995)                                             </td><td>Action|Comedy|Crime|Drama|Thriller         </td><td>Father of the Bride Part II (1995)                  </td><td>Action|Comedy|Crime|Drama|Thriller         </td></tr>\n",
       "<tr><td>Get Shorty (1995)                                              </td><td>Comedy|Crime|Thriller                      </td><td>Bad Boys (1995)                                     </td><td>Comedy|Crime|Thriller                      </td></tr>\n",
       "<tr><td>Copycat (1995)                                                 </td><td>Crime|Drama|Horror|Mystery|Thriller        </td><td>Man Who Knew Too Little, The (1997)                 </td><td>Crime|Drama|Horror|Mystery|Thriller        </td></tr>\n",
       "<tr><td>Assassins (1995)                                               </td><td>Action|Crime|Thriller                      </td><td>Horsemen (2009)                                     </td><td>Action|Crime|Thriller                      </td></tr>\n",
       "<tr><td>Powder (1995)                                                  </td><td>Drama|Sci-Fi                               </td><td>Heat (1995)                                         </td><td>Drama|Sci-Fi                               </td></tr>\n",
       "<tr><td>Leaving Las Vegas (1995)                                       </td><td>Drama|Romance                              </td><td>Contact (1997)                                      </td><td>Drama|Romance                              </td></tr>\n",
       "<tr><td>Othello (1995)                                                 </td><td>Drama                                      </td><td>Sense and Sensibility (1995)                        </td><td>Drama                                      </td></tr>\n",
       "<tr><td>Now and Then (1995)                                            </td><td>Children|Drama                             </td><td>Nixon (1995)                                        </td><td>Children|Drama                             </td></tr>\n",
       "<tr><td>Persuasion (1995)                                              </td><td>Drama|Romance                              </td><td>Babe (1995)                                         </td><td>Drama|Romance                              </td></tr>\n",
       "<tr><td>City of Lost Children, The (Cité des enfants perdus, La) (1995)</td><td>Adventure|Drama|Fantasy|Mystery|Sci-Fi     </td><td>Sense and Sensibility (1995)                        </td><td>Adventure|Drama|Fantasy|Mystery|Sci-Fi     </td></tr>\n",
       "<tr><td>Shanghai Triad (Yao a yao yao dao waipo qiao) (1995)           </td><td>Crime|Drama                                </td><td>Survive Style 5+ (2004)                             </td><td>Crime|Drama                                </td></tr>\n",
       "<tr><td>Dangerous Minds (1995)                                         </td><td>Drama                                      </td><td>Casino (1995)                                       </td><td>Drama                                      </td></tr>\n",
       "<tr><td>Twelve Monkeys (a.k.a. 12 Monkeys) (1995)                      </td><td>Mystery|Sci-Fi|Thriller                    </td><td>Nixon (1995)                                        </td><td>Mystery|Sci-Fi|Thriller                    </td></tr>\n",
       "<tr><td>Wings of Courage (1995)                                        </td><td>Adventure|Romance|IMAX                     </td><td>Unforgettable (1996)                                </td><td>Adventure|Romance|IMAX                     </td></tr>\n",
       "<tr><td>Babe (1995)                                                    </td><td>Children|Drama                             </td><td>Prince of Persia: The Sands of Time (2010)          </td><td>Children|Drama                             </td></tr>\n",
       "<tr><td>Carrington (1995)                                              </td><td>Drama|Romance                              </td><td>Now and Then (1995)                                 </td><td>Drama|Romance                              </td></tr>\n",
       "<tr><td>Dead Man Walking (1995)                                        </td><td>Crime|Drama                                </td><td>Sense and Sensibility (1995)                        </td><td>Crime|Drama                                </td></tr>\n",
       "<tr><td>Across the Sea of Time (1995)                                  </td><td>Documentary|IMAX                           </td><td>Casino (1995)                                       </td><td>Documentary|IMAX                           </td></tr>\n",
       "<tr><td>It Takes Two (1995)                                            </td><td>Children|Comedy                            </td><td>Everest (1998)                                      </td><td>Children|Comedy                            </td></tr>\n",
       "<tr><td>Clueless (1995)                                                </td><td>Comedy|Romance                             </td><td>Big Green, The (1995)                               </td><td>Comedy|Romance                             </td></tr>\n",
       "<tr><td>Cry, the Beloved Country (1995)                                </td><td>Drama                                      </td><td>Grumpier Old Men (1995)                             </td><td>Drama                                      </td></tr>\n",
       "<tr><td>Richard III (1995)                                             </td><td>Drama|War                                  </td><td>Nixon (1995)                                        </td><td>Drama|War                                  </td></tr>\n",
       "<tr><td>Dead Presidents (1995)                                         </td><td>Action|Crime|Drama                         </td><td>Misérables, Les (1995)                              </td><td>Action|Crime|Drama                         </td></tr>\n",
       "<tr><td>Restoration (1995)                                             </td><td>Drama                                      </td><td>Bad Company (1995)                                  </td><td>Drama                                      </td></tr>\n",
       "<tr><td>Mortal Kombat (1995)                                           </td><td>Action|Adventure|Fantasy                   </td><td>Nixon (1995)                                        </td><td>Action|Adventure|Fantasy                   </td></tr>\n",
       "<tr><td>To Die For (1995)                                              </td><td>Comedy|Drama|Thriller                      </td><td>Street Fighter (1994)                               </td><td>Comedy|Drama|Thriller                      </td></tr>\n",
       "<tr><td>How to Make an American Quilt (1995)                           </td><td>Drama|Romance                              </td><td>Headless Body in Topless Bar (1995)                 </td><td>Drama|Romance                              </td></tr>\n",
       "<tr><td>Seven (a.k.a. Se7en) (1995)                                    </td><td>Mystery|Thriller                           </td><td>Sense and Sensibility (1995)                        </td><td>Mystery|Thriller                           </td></tr>\n",
       "<tr><td>Pocahontas (1995)                                              </td><td>Animation|Children|Drama|Musical|Romance   </td><td>Just Cause (1995)                                   </td><td>Animation|Children|Drama|Musical|Romance   </td></tr>\n",
       "<tr><td>When Night Is Falling (1995)                                   </td><td>Drama|Romance                              </td><td>Hunchback of Notre Dame, The (1996)                 </td><td>Drama|Romance                              </td></tr>\n",
       "<tr><td>Usual Suspects, The (1995)                                     </td><td>Crime|Mystery|Thriller                     </td><td>Sense and Sensibility (1995)                        </td><td>Crime|Mystery|Thriller                     </td></tr>\n",
       "</tbody>\n",
       "</table>"
      ],
      "text/plain": [
       "'<table>\\n<thead>\\n<tr><th>movie1                                                         </th><th>genres                                     </th><th>movie2                                              </th><th>genres                                     </th></tr>\\n</thead>\\n<tbody>\\n<tr><td>Toy Story (1995)                                               </td><td>Adventure|Animation|Children|Comedy|Fantasy</td><td>Kicking and Screaming (1995)                        </td><td>Adventure|Animation|Children|Comedy|Fantasy</td></tr>\\n<tr><td>Jumanji (1995)                                                 </td><td>Adventure|Children|Fantasy                 </td><td>Antz (1998)                                         </td><td>Adventure|Children|Fantasy                 </td></tr>\\n<tr><td>Grumpier Old Men (1995)                                        </td><td>Comedy|Romance                             </td><td>Indian in the Cupboard, The (1995)                  </td><td>Comedy|Romance                             </td></tr>\\n<tr><td>Waiting to Exhale (1995)                                       </td><td>Comedy|Drama|Romance                       </td><td>Sabrina (1995)                                      </td><td>Comedy|Drama|Romance                       </td></tr>\\n<tr><td>Father of the Bride Part II (1995)                             </td><td>Comedy                                     </td><td>American President, The (1995)                      </td><td>Comedy                                     </td></tr>\\n<tr><td>Heat (1995)                                                    </td><td>Action|Crime|Thriller                      </td><td>Four Rooms (1995)                                   </td><td>Action|Crime|Thriller                      </td></tr>\\n<tr><td>Sabrina (1995)                                                 </td><td>Comedy|Romance                             </td><td>Assassins (1995)                                    </td><td>Comedy|Romance                             </td></tr>\\n<tr><td>Tom and Huck (1995)                                            </td><td>Adventure|Children                         </td><td>Grumpier Old Men (1995)                             </td><td>Adventure|Children                         </td></tr>\\n<tr><td>Sudden Death (1995)                                            </td><td>Action                                     </td><td>Amazing Panda Adventure, The (1995)                 </td><td>Action                                     </td></tr>\\n<tr><td>GoldenEye (1995)                                               </td><td>Action|Adventure|Thriller                  </td><td>Fair Game (1995)                                    </td><td>Action|Adventure|Thriller                  </td></tr>\\n<tr><td>American President, The (1995)                                 </td><td>Comedy|Drama|Romance                       </td><td>Broken Arrow (1996)                                 </td><td>Comedy|Drama|Romance                       </td></tr>\\n<tr><td>Dracula: Dead and Loving It (1995)                             </td><td>Comedy|Horror                              </td><td>Waiting to Exhale (1995)                            </td><td>Comedy|Horror                              </td></tr>\\n<tr><td>Balto (1995)                                                   </td><td>Adventure|Animation|Children               </td><td>Careful (1992)                                      </td><td>Adventure|Animation|Children               </td></tr>\\n<tr><td>Nixon (1995)                                                   </td><td>Drama                                      </td><td>Rescuers Down Under, The (1990)                     </td><td>Drama                                      </td></tr>\\n<tr><td>Cutthroat Island (1995)                                        </td><td>Action|Adventure|Romance                   </td><td>Othello (1995)                                      </td><td>Action|Adventure|Romance                   </td></tr>\\n<tr><td>Casino (1995)                                                  </td><td>Crime|Drama                                </td><td>Musketeer, The (2001)                               </td><td>Crime|Drama                                </td></tr>\\n<tr><td>Sense and Sensibility (1995)                                   </td><td>Drama|Romance                              </td><td>Shanghai Triad (Yao a yao yao dao waipo qiao) (1995)</td><td>Drama|Romance                              </td></tr>\\n<tr><td>Four Rooms (1995)                                              </td><td>Comedy                                     </td><td>Leaving Las Vegas (1995)                            </td><td>Comedy                                     </td></tr>\\n<tr><td>Ace Ventura: When Nature Calls (1995)                          </td><td>Comedy                                     </td><td>Father of the Bride Part II (1995)                  </td><td>Comedy                                     </td></tr>\\n<tr><td>Money Train (1995)                                             </td><td>Action|Comedy|Crime|Drama|Thriller         </td><td>Father of the Bride Part II (1995)                  </td><td>Action|Comedy|Crime|Drama|Thriller         </td></tr>\\n<tr><td>Get Shorty (1995)                                              </td><td>Comedy|Crime|Thriller                      </td><td>Bad Boys (1995)                                     </td><td>Comedy|Crime|Thriller                      </td></tr>\\n<tr><td>Copycat (1995)                                                 </td><td>Crime|Drama|Horror|Mystery|Thriller        </td><td>Man Who Knew Too Little, The (1997)                 </td><td>Crime|Drama|Horror|Mystery|Thriller        </td></tr>\\n<tr><td>Assassins (1995)                                               </td><td>Action|Crime|Thriller                      </td><td>Horsemen (2009)                                     </td><td>Action|Crime|Thriller                      </td></tr>\\n<tr><td>Powder (1995)                                                  </td><td>Drama|Sci-Fi                               </td><td>Heat (1995)                                         </td><td>Drama|Sci-Fi                               </td></tr>\\n<tr><td>Leaving Las Vegas (1995)                                       </td><td>Drama|Romance                              </td><td>Contact (1997)                                      </td><td>Drama|Romance                              </td></tr>\\n<tr><td>Othello (1995)                                                 </td><td>Drama                                      </td><td>Sense and Sensibility (1995)                        </td><td>Drama                                      </td></tr>\\n<tr><td>Now and Then (1995)                                            </td><td>Children|Drama                             </td><td>Nixon (1995)                                        </td><td>Children|Drama                             </td></tr>\\n<tr><td>Persuasion (1995)                                              </td><td>Drama|Romance                              </td><td>Babe (1995)                                         </td><td>Drama|Romance                              </td></tr>\\n<tr><td>City of Lost Children, The (Cité des enfants perdus, La) (1995)</td><td>Adventure|Drama|Fantasy|Mystery|Sci-Fi     </td><td>Sense and Sensibility (1995)                        </td><td>Adventure|Drama|Fantasy|Mystery|Sci-Fi     </td></tr>\\n<tr><td>Shanghai Triad (Yao a yao yao dao waipo qiao) (1995)           </td><td>Crime|Drama                                </td><td>Survive Style 5+ (2004)                             </td><td>Crime|Drama                                </td></tr>\\n<tr><td>Dangerous Minds (1995)                                         </td><td>Drama                                      </td><td>Casino (1995)                                       </td><td>Drama                                      </td></tr>\\n<tr><td>Twelve Monkeys (a.k.a. 12 Monkeys) (1995)                      </td><td>Mystery|Sci-Fi|Thriller                    </td><td>Nixon (1995)                                        </td><td>Mystery|Sci-Fi|Thriller                    </td></tr>\\n<tr><td>Wings of Courage (1995)                                        </td><td>Adventure|Romance|IMAX                     </td><td>Unforgettable (1996)                                </td><td>Adventure|Romance|IMAX                     </td></tr>\\n<tr><td>Babe (1995)                                                    </td><td>Children|Drama                             </td><td>Prince of Persia: The Sands of Time (2010)          </td><td>Children|Drama                             </td></tr>\\n<tr><td>Carrington (1995)                                              </td><td>Drama|Romance                              </td><td>Now and Then (1995)                                 </td><td>Drama|Romance                              </td></tr>\\n<tr><td>Dead Man Walking (1995)                                        </td><td>Crime|Drama                                </td><td>Sense and Sensibility (1995)                        </td><td>Crime|Drama                                </td></tr>\\n<tr><td>Across the Sea of Time (1995)                                  </td><td>Documentary|IMAX                           </td><td>Casino (1995)                                       </td><td>Documentary|IMAX                           </td></tr>\\n<tr><td>It Takes Two (1995)                                            </td><td>Children|Comedy                            </td><td>Everest (1998)                                      </td><td>Children|Comedy                            </td></tr>\\n<tr><td>Clueless (1995)                                                </td><td>Comedy|Romance                             </td><td>Big Green, The (1995)                               </td><td>Comedy|Romance                             </td></tr>\\n<tr><td>Cry, the Beloved Country (1995)                                </td><td>Drama                                      </td><td>Grumpier Old Men (1995)                             </td><td>Drama                                      </td></tr>\\n<tr><td>Richard III (1995)                                             </td><td>Drama|War                                  </td><td>Nixon (1995)                                        </td><td>Drama|War                                  </td></tr>\\n<tr><td>Dead Presidents (1995)                                         </td><td>Action|Crime|Drama                         </td><td>Misérables, Les (1995)                              </td><td>Action|Crime|Drama                         </td></tr>\\n<tr><td>Restoration (1995)                                             </td><td>Drama                                      </td><td>Bad Company (1995)                                  </td><td>Drama                                      </td></tr>\\n<tr><td>Mortal Kombat (1995)                                           </td><td>Action|Adventure|Fantasy                   </td><td>Nixon (1995)                                        </td><td>Action|Adventure|Fantasy                   </td></tr>\\n<tr><td>To Die For (1995)                                              </td><td>Comedy|Drama|Thriller                      </td><td>Street Fighter (1994)                               </td><td>Comedy|Drama|Thriller                      </td></tr>\\n<tr><td>How to Make an American Quilt (1995)                           </td><td>Drama|Romance                              </td><td>Headless Body in Topless Bar (1995)                 </td><td>Drama|Romance                              </td></tr>\\n<tr><td>Seven (a.k.a. Se7en) (1995)                                    </td><td>Mystery|Thriller                           </td><td>Sense and Sensibility (1995)                        </td><td>Mystery|Thriller                           </td></tr>\\n<tr><td>Pocahontas (1995)                                              </td><td>Animation|Children|Drama|Musical|Romance   </td><td>Just Cause (1995)                                   </td><td>Animation|Children|Drama|Musical|Romance   </td></tr>\\n<tr><td>When Night Is Falling (1995)                                   </td><td>Drama|Romance                              </td><td>Hunchback of Notre Dame, The (1996)                 </td><td>Drama|Romance                              </td></tr>\\n<tr><td>Usual Suspects, The (1995)                                     </td><td>Crime|Mystery|Thriller                     </td><td>Sense and Sensibility (1995)                        </td><td>Crime|Mystery|Thriller                     </td></tr>\\n</tbody>\\n</table>'"
      ]
     },
     "execution_count": 140,
     "metadata": {},
     "output_type": "execute_result"
    }
   ],
   "source": [
    "table"
   ]
  },
  {
   "cell_type": "code",
   "execution_count": null,
   "metadata": {},
   "outputs": [],
   "source": []
  }
 ],
 "metadata": {
  "kernelspec": {
   "display_name": "tf",
   "language": "python",
   "name": "python3"
  },
  "language_info": {
   "codemirror_mode": {
    "name": "ipython",
    "version": 3
   },
   "file_extension": ".py",
   "mimetype": "text/x-python",
   "name": "python",
   "nbconvert_exporter": "python",
   "pygments_lexer": "ipython3",
   "version": "3.9.16"
  },
  "orig_nbformat": 4
 },
 "nbformat": 4,
 "nbformat_minor": 2
}
